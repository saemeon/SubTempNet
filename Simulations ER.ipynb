{
 "cells": [
  {
   "cell_type": "code",
   "execution_count": 1,
   "metadata": {
    "ExecuteTime": {
     "end_time": "2020-12-07T16:15:06.967335Z",
     "start_time": "2020-12-07T16:15:05.007636Z"
    }
   },
   "outputs": [],
   "source": [
    "from SubTempNet import *\n",
    "\n",
    "%load_ext autoreload\n",
    "%autoreload 2\n",
    "%matplotlib inline\n",
    "plt.rcParams['mathtext.fontset'] = 'stix'\n",
    "plt.rcParams['font.family'] = 'STIXGeneral'"
   ]
  },
  {
   "cell_type": "markdown",
   "metadata": {},
   "source": [
    "# ER"
   ]
  },
  {
   "cell_type": "code",
   "execution_count": null,
   "metadata": {},
   "outputs": [],
   "source": [
    "n = 100\n",
    "p = 0.0001\n",
    "t = 15000\n",
    "name = \"data/ER/ER_ud_n\"+str(n)+\"_p\"+str(p)[2:]+\"_T\"+str(t)\n",
    "A = [nx.gnp_random_graph(n, p, seed=None, directed=False) for i in range(t)]\n",
    "if len(A[0].edges()) ==0:\n",
    "    u,v = np.random.choice(range(n),2,replace = False )\n",
    "    A[0].add_edge(u,v)\n",
    "if len(A[-1].edges()) ==0:\n",
    "    u,v = np.random.choice(range(n),2,replace = False )\n",
    "    A[-1].add_edge(u,v)\n",
    "snapshotlist_to_temporal_edgelist(A, \"data/\" + name +\".edges\")"
   ]
  },
  {
   "cell_type": "code",
   "execution_count": 4,
   "metadata": {
    "ExecuteTime": {
     "end_time": "2020-12-07T16:39:20.854389Z",
     "start_time": "2020-12-07T16:39:20.479446Z"
    }
   },
   "outputs": [],
   "source": [
    "filepath =\"data/ER_ud_T_n100_p0001_T15000.edges\"\n",
    "objname = \"ER_n100_p0001\"\n",
    "STN= SubTempNet(filepath,objname,directed= False, init = False)"
   ]
  },
  {
   "cell_type": "code",
   "execution_count": 8,
   "metadata": {
    "ExecuteTime": {
     "end_time": "2020-12-07T16:41:39.863980Z",
     "start_time": "2020-12-07T16:41:39.272253Z"
    }
   },
   "outputs": [
    {
     "name": "stdout",
     "output_type": "stream",
     "text": [
      "[1, 8, 9, 10, 11, 12, 13, 14, 15, 16, 17, 18, 19, 20, 22, 23, 24, 26, 27, 29, 30, 32, 34, 36, 38, 40, 43, 45, 48, 51, 54, 57, 60, 64, 67, 71, 75, 80, 84, 89, 94, 100, 105, 112, 118, 125, 132, 140, 148, 156, 165, 175, 185, 195, 207, 219, 231, 244, 258, 273, 289, 306, 323, 342, 362, 382, 405, 428, 452, 478, 506, 535, 566, 598, 633, 669, 708, 748, 791, 837, 885, 936, 990, 1047, 1107, 1171, 1238, 1309, 1384, 1464, 1548, 1637, 1731, 1831, 1936, 2048]\n"
     ]
    },
    {
     "data": {
      "image/png": "[encoded data removed]",
      "text/plain": [
       "<Figure size 432x288 with 1 Axes>"
      ]
     },
     "metadata": {
      "needs_background": "light"
     },
     "output_type": "display_data"
    }
   ],
   "source": [
    "num = 100\n",
    "T = sorted([1]+list(set(np.logspace(np.log10(2048),np.log10(8.1), num, dtype = int))))\n",
    "print(T)\n",
    "plt.scatter(T, len(T)*[1])\n",
    "plt.xscale(\"log\")"
   ]
  },
  {
   "cell_type": "code",
   "execution_count": null,
   "metadata": {
    "ExecuteTime": {
     "start_time": "2020-12-07T16:41:50.431Z"
    }
   },
   "outputs": [],
   "source": [
    "STN.run(*T,  maxsamp = 30, minsamp = 5)"
   ]
  },
  {
   "cell_type": "code",
   "execution_count": null,
   "metadata": {
    "ExecuteTime": {
     "start_time": "2020-12-07T16:43:32.303Z"
    }
   },
   "outputs": [],
   "source": [
    "STN.plot_PA(normalize=True)\n",
    "STN.plot_LCC(normalize=True)\n",
    "STN.plot_cA0AT()\n",
    "STN.plot_cA0AL(2,4,6,8)"
   ]
  },
  {
   "cell_type": "code",
   "execution_count": null,
   "metadata": {},
   "outputs": [],
   "source": []
  }
 ],
 "metadata": {
  "kernelspec": {
   "display_name": "Python 3",
   "language": "python",
   "name": "python3"
  },
  "language_info": {
   "codemirror_mode": {
    "name": "ipython",
    "version": 3
   },
   "file_extension": ".py",
   "mimetype": "text/x-python",
   "name": "python",
   "nbconvert_exporter": "python",
   "pygments_lexer": "ipython3",
   "version": "3.7.3"
  },
  "toc": {
   "base_numbering": 1,
   "nav_menu": {},
   "number_sections": true,
   "sideBar": true,
   "skip_h1_title": false,
   "title_cell": "Table of Contents",
   "title_sidebar": "Contents",
   "toc_cell": false,
   "toc_position": {},
   "toc_section_display": true,
   "toc_window_display": false
  }
 },
 "nbformat": 4,
 "nbformat_minor": 2
}
