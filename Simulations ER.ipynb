{
 "cells": [
  {
   "cell_type": "code",
   "execution_count": 1,
   "metadata": {
    "ExecuteTime": {
     "end_time": "2020-12-07T16:15:06.967335Z",
     "start_time": "2020-12-07T16:15:05.007636Z"
    }
   },
   "outputs": [],
   "source": [
    "from SubTempNet import *\n",
    "\n",
    "%load_ext autoreload\n",
    "%autoreload 2\n",
    "%matplotlib inline\n",
    "plt.rcParams['mathtext.fontset'] = 'stix'\n",
    "plt.rcParams['font.family'] = 'STIXGeneral'"
   ]
  },
  {
   "cell_type": "markdown",
   "metadata": {},
   "source": [
    "# ER"
   ]
  },
  {
   "cell_type": "code",
   "execution_count": null,
   "metadata": {},
   "outputs": [],
   "source": [
    "n = 100\n",
    "p = 0.0001\n",
    "t = 15000\n",
    "name = \"data/ER/ER_ud_n\"+str(n)+\"_p\"+str(p)[2:]+\"_T\"+str(t)\n",
    "A = [nx.gnp_random_graph(n, p, seed=None, directed=False) for i in range(t)]\n",
    "if len(A[0].edges()) ==0:\n",
    "    u,v = np.random.choice(range(n),2,replace = False )\n",
    "    A[0].add_edge(u,v)\n",
    "if len(A[-1].edges()) ==0:\n",
    "    u,v = np.random.choice(range(n),2,replace = False )\n",
    "    A[-1].add_edge(u,v)\n",
    "snapshotlist_to_temporal_edgelist(A, \"data/\" + name +\".edges\")"
   ]
  },
  {
   "cell_type": "code",
   "execution_count": 12,
   "metadata": {
    "ExecuteTime": {
     "end_time": "2020-12-07T16:56:07.209111Z",
     "start_time": "2020-12-07T16:55:40.435006Z"
    }
   },
   "outputs": [],
   "source": [
    "filepath =\"data/ER/ER_ud_n100_p0001_T15000.edges\"\n",
    "objname = \"ER_n100_p0001\"\n",
    "STN= SubTempNet(filepath,objname,directed= False, init = True)"
   ]
  },
  {
   "cell_type": "code",
   "execution_count": 13,
   "metadata": {
    "ExecuteTime": {
     "end_time": "2020-12-07T16:56:08.605849Z",
     "start_time": "2020-12-07T16:56:07.216550Z"
    }
   },
   "outputs": [
    {
     "name": "stdout",
     "output_type": "stream",
     "text": [
      "[1, 8, 9, 10, 11, 12, 14, 15, 17, 19, 22, 25, 28, 31, 35, 39, 44, 49, 55, 61, 69, 77, 86, 97, 108, 121, 136, 152, 170, 191, 214, 239, 268, 300, 336, 376, 421, 471, 528, 591, 662, 741, 829, 929, 1040, 1164, 1303, 1459, 1634, 1829, 2048]\n"
     ]
    },
    {
     "data": {
      "image/png": "[encoded data removed]",
      "text/plain": [
       "<Figure size 432x288 with 1 Axes>"
      ]
     },
     "metadata": {
      "needs_background": "light"
     },
     "output_type": "display_data"
    }
   ],
   "source": [
    "num = 50\n",
    "T = sorted([1]+list(set(np.logspace(np.log10(2048),np.log10(8.1), num, dtype = int))))\n",
    "print(T)\n",
    "plt.scatter(T, len(T)*[1])\n",
    "plt.xscale(\"log\")"
   ]
  },
  {
   "cell_type": "code",
   "execution_count": null,
   "metadata": {
    "ExecuteTime": {
     "start_time": "2020-12-07T16:55:55.019Z"
    }
   },
   "outputs": [
    {
     "name": "stdout",
     "output_type": "stream",
     "text": [
      "Done with samplelengths  [1, 8, 9, 10, 11, 12, 14, 15, 17, 19, 22, 25, 28, 31, 35, 39, 44, 49, 55, 61, 69, 77, 86, 97, 108, 121, 136, 152, 170, 191, 214, 239, 268, 300, 336, 376, 421, 471, 528, 591, 662, 741, 829, 929]\n",
      "Analyzing sample number 6 for samplelength  1040 and  8 slices\n"
     ]
    }
   ],
   "source": [
    "STN.run(*T,  maxsamp = 30, minsamp = 5)"
   ]
  },
  {
   "cell_type": "code",
   "execution_count": null,
   "metadata": {
    "ExecuteTime": {
     "start_time": "2020-12-07T16:55:57.412Z"
    }
   },
   "outputs": [],
   "source": [
    "STN.plot_PA(normalize=True)\n",
    "STN.plot_LCC(normalize=True)\n",
    "STN.plot_cA0AT()\n",
    "STN.plot_cA0AL(2,4,6,8)"
   ]
  },
  {
   "cell_type": "code",
   "execution_count": null,
   "metadata": {},
   "outputs": [],
   "source": []
  }
 ],
 "metadata": {
  "kernelspec": {
   "display_name": "Python 3",
   "language": "python",
   "name": "python3"
  },
  "language_info": {
   "codemirror_mode": {
    "name": "ipython",
    "version": 3
   },
   "file_extension": ".py",
   "mimetype": "text/x-python",
   "name": "python",
   "nbconvert_exporter": "python",
   "pygments_lexer": "ipython3",
   "version": "3.7.3"
  },
  "toc": {
   "base_numbering": 1,
   "nav_menu": {},
   "number_sections": true,
   "sideBar": true,
   "skip_h1_title": false,
   "title_cell": "Table of Contents",
   "title_sidebar": "Contents",
   "toc_cell": false,
   "toc_position": {},
   "toc_section_display": true,
   "toc_window_display": false
  }
 },
 "nbformat": 4,
 "nbformat_minor": 2
}
