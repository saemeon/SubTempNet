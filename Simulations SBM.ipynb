{
 "cells": [
  {
   "cell_type": "code",
   "execution_count": 1,
   "metadata": {
    "ExecuteTime": {
     "end_time": "2020-12-07T16:51:33.400477Z",
     "start_time": "2020-12-07T16:51:31.182363Z"
    }
   },
   "outputs": [],
   "source": [
    "from SubTempNet import *\n",
    "\n",
    "%load_ext autoreload\n",
    "%autoreload 2\n",
    "%matplotlib inline\n",
    "plt.rcParams['mathtext.fontset'] = 'stix'\n",
    "plt.rcParams['font.family'] = 'STIXGeneral'"
   ]
  },
  {
   "cell_type": "markdown",
   "metadata": {},
   "source": [
    "# SBM"
   ]
  },
  {
   "cell_type": "code",
   "execution_count": 15,
   "metadata": {
    "ExecuteTime": {
     "end_time": "2020-12-07T17:11:35.909002Z",
     "start_time": "2020-12-07T17:10:46.248938Z"
    }
   },
   "outputs": [],
   "source": [
    "n = [50,50]\n",
    "p = [[0.001,0],[0,0.00005]]\n",
    "t = 30000\n",
    "name = \"data/SBM/SBM_ud_n\"+str(n[0])+\"-\"+str(n[1])+\"_p\"+str(p[0][0])[2:]+\"-\"+str(p[1][1])[2:]+\"_T\"+str(t)+\".edges\"\n",
    "A = [nx.stochastic_block_model(n,p,seed = None) for i in range(t)]\n",
    "if len(A[0].edges()) ==0:\n",
    "    u,v = np.random.choice(range(50),2,replace = False )\n",
    "    A[0].add_edge(u,v)\n",
    "if len(A[-1].edges()) ==0:\n",
    "    u,v = np.random.choice(range(50),2,replace = False )\n",
    "    A[-1].add_edge(u,v)\n",
    "SubTempNet.write_snapshotlist_to_edgelist(A, name, separator='\\t')"
   ]
  },
  {
   "cell_type": "code",
   "execution_count": 17,
   "metadata": {
    "ExecuteTime": {
     "end_time": "2020-12-07T17:14:04.876300Z",
     "start_time": "2020-12-07T17:13:34.655486Z"
    }
   },
   "outputs": [],
   "source": [
    "filepath =\"data/SBM/SBM_ud_n50-50_p001-00005_T30000.edges\"\n",
    "objname = \"SBM_n50-50_p001-00005\"\n",
    "STN= SubTempNet(filepath,objname,directed= False, init = True)"
   ]
  },
  {
   "cell_type": "code",
   "execution_count": 19,
   "metadata": {
    "ExecuteTime": {
     "end_time": "2020-12-07T17:14:39.264509Z",
     "start_time": "2020-12-07T17:14:38.915356Z"
    }
   },
   "outputs": [
    {
     "name": "stdout",
     "output_type": "stream",
     "text": [
      "[15000, 12864, 11033, 9463, 8116, 6960, 5970, 5120, 4391, 3766, 3230, 2770, 2376, 2037, 1747, 1499, 1285, 1102, 945, 811, 695, 596, 511, 438, 376, 322, 276, 237, 203, 174, 149, 128, 110, 94, 81, 69, 59, 51, 43, 37, 32, 27, 23, 20, 17, 14, 12, 11, 9, 8]\n"
     ]
    },
    {
     "data": {
      "image/png": "[encoded data removed]",
      "text/plain": [
       "<Figure size 432x288 with 1 Axes>"
      ]
     },
     "metadata": {
      "needs_background": "light"
     },
     "output_type": "display_data"
    }
   ],
   "source": [
    "num = 50\n",
    "T = sorted(list(set(list(np.logspace(np.log10(15000),np.log10(8.1), num, dtype = int)))),reverse = True)\n",
    "print(T)\n",
    "plt.scatter(T, len(T)*[1])\n",
    "plt.xscale(\"log\")"
   ]
  },
  {
   "cell_type": "code",
   "execution_count": null,
   "metadata": {
    "ExecuteTime": {
     "start_time": "2020-12-07T17:14:54.098Z"
    }
   },
   "outputs": [
    {
     "name": "stdout",
     "output_type": "stream",
     "text": [
      "Done with samplelengths  [15000]\n",
      "Analyzing sample number 4 for samplelength  12864 and  8 slices\n"
     ]
    }
   ],
   "source": [
    "STN.run(*T,  maxsamp = 30, minsamp = 5)"
   ]
  },
  {
   "cell_type": "code",
   "execution_count": null,
   "metadata": {
    "ExecuteTime": {
     "start_time": "2020-12-07T17:15:13.302Z"
    }
   },
   "outputs": [],
   "source": [
    "STN.plot_PA(normalize=True)\n",
    "STN.plot_LCC(normalize=True)\n",
    "STN.plot_cA0AT()\n",
    "STN.plot_cA0AL(2,4,6,8)"
   ]
  },
  {
   "cell_type": "code",
   "execution_count": null,
   "metadata": {},
   "outputs": [],
   "source": []
  }
 ],
 "metadata": {
  "kernelspec": {
   "display_name": "Python 3",
   "language": "python",
   "name": "python3"
  },
  "language_info": {
   "codemirror_mode": {
    "name": "ipython",
    "version": 3
   },
   "file_extension": ".py",
   "mimetype": "text/x-python",
   "name": "python",
   "nbconvert_exporter": "python",
   "pygments_lexer": "ipython3",
   "version": "3.7.3"
  },
  "toc": {
   "base_numbering": 1,
   "nav_menu": {},
   "number_sections": true,
   "sideBar": true,
   "skip_h1_title": false,
   "title_cell": "Table of Contents",
   "title_sidebar": "Contents",
   "toc_cell": false,
   "toc_position": {},
   "toc_section_display": true,
   "toc_window_display": false
  }
 },
 "nbformat": 4,
 "nbformat_minor": 2
}
