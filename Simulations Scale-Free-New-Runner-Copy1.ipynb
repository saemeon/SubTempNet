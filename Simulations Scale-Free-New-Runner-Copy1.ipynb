{
 "cells": [
  {
   "cell_type": "markdown",
   "metadata": {},
   "source": [
    "# Scale Free"
   ]
  },
  {
   "cell_type": "code",
   "execution_count": 1,
   "metadata": {
    "ExecuteTime": {
     "end_time": "2021-03-15T07:51:20.086098Z",
     "start_time": "2021-03-15T07:51:18.647699Z"
    }
   },
   "outputs": [],
   "source": [
    "from SubTempNet import *\n",
    "\n",
    "%load_ext autoreload\n",
    "%autoreload 2\n",
    "%matplotlib inline"
   ]
  },
  {
   "cell_type": "code",
   "execution_count": 2,
   "metadata": {
    "ExecuteTime": {
     "end_time": "2021-03-15T07:51:20.229441Z",
     "start_time": "2021-03-15T07:51:20.089569Z"
    }
   },
   "outputs": [],
   "source": [
    "N = [100]\n",
    "gamma = [1.5,2,2.5,3]\n",
    "S = [500]\n",
    "Tmax = 20000"
   ]
  },
  {
   "cell_type": "code",
   "execution_count": 3,
   "metadata": {
    "ExecuteTime": {
     "end_time": "2021-03-15T07:51:21.901955Z",
     "start_time": "2021-03-15T07:51:21.260626Z"
    }
   },
   "outputs": [
    {
     "name": "stdout",
     "output_type": "stream",
     "text": [
      "[1, 2, 3, 4, 5, 6, 7, 9, 11, 13, 16, 20, 24, 29, 35, 42, 51, 62, 75, 91, 109, 132, 159, 193, 232, 281, 339, 409, 494, 596, 719, 868, 1048, 1264, 1526, 1842, 2222, 2682, 3237, 3906, 4714, 5689, 6866, 8286, 10000]\n",
      "[2, 4, 8, 16, 32, 64, 128, 256, 512, 1024, 2048, 4096, 8192]\n"
     ]
    },
    {
     "data": {
      "image/png": "[encoded data removed]",
      "text/plain": [
       "<Figure size 432x288 with 1 Axes>"
      ]
     },
     "metadata": {
      "needs_background": "light"
     },
     "output_type": "display_data"
    }
   ],
   "source": [
    "num = 50\n",
    "T = sorted(list(set(np.logspace(np.log10(10000),np.log10(1), num, dtype = int))))\n",
    "print(T)\n",
    "plt.scatter(T, len(T)*[1])\n",
    "plt.xscale(\"log\")\n",
    "I = [2** i for i in range(1,int(np.log2(10000)+1))]\n",
    "print(I)"
   ]
  },
  {
   "cell_type": "code",
   "execution_count": 4,
   "metadata": {
    "ExecuteTime": {
     "end_time": "2021-03-16T01:13:12.771535Z",
     "start_time": "2021-03-15T07:52:09.543791Z"
    }
   },
   "outputs": [
    {
     "name": "stdout",
     "output_type": "stream",
     "text": [
      "Done with samplelengths  [1, 2, 3, 4, 5, 6, 7, 9, 11, 13, 16, 20, 24, 29, 35, 42, 51, 62, 75, 91, 109, 132, 159, 193, 232, 281, 339, 409, 494, 596, 719, 868, 1048, 1264, 1526, 1842, 2222, 2682, 3237, 3906, 4714, 5689, 6866]\n",
      "Analyzing sample number 5 for samplelength  8286\n",
      "100 500 3 7\n"
     ]
    }
   ],
   "source": [
    "#Run Objects\n",
    "for n in N:\n",
    "    for s in S:\n",
    "        for g in gamma:\n",
    "            for rep in range(5,8):\n",
    "                filepath =\"data/SF/SF_n\"+str(n)+\"_g\"+ \"{}\".format(g)+\"_T\"+str(Tmax)+\"_s\"+str(s)+\"_rep\"+str(rep)\n",
    "                objname = \"SF/SF_n\"+str(n)+\"_g\"+ \"{}\".format(g)+\"_T\"+str(Tmax)+\"_s\"+str(s)+\"_rep\"+str(rep)\n",
    "                STN= SubTempNet(filepath,objname,directed= False, init = False)\n",
    "                STN.run2(I, T,  maxsamp = 25, minsamp = 5)\n",
    "                STN.save()\n",
    "                print(n,s,g,rep)"
   ]
  }
 ],
 "metadata": {
  "kernelspec": {
   "display_name": "Python 3",
   "language": "python",
   "name": "python3"
  },
  "language_info": {
   "codemirror_mode": {
    "name": "ipython",
    "version": 3
   },
   "file_extension": ".py",
   "mimetype": "text/x-python",
   "name": "python",
   "nbconvert_exporter": "python",
   "pygments_lexer": "ipython3",
   "version": "3.7.3"
  },
  "toc": {
   "base_numbering": 1,
   "nav_menu": {},
   "number_sections": true,
   "sideBar": true,
   "skip_h1_title": false,
   "title_cell": "Table of Contents",
   "title_sidebar": "Contents",
   "toc_cell": false,
   "toc_position": {},
   "toc_section_display": true,
   "toc_window_display": false
  }
 },
 "nbformat": 4,
 "nbformat_minor": 2
}
