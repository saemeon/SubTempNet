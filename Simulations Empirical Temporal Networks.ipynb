{
 "cells": [
  {
   "cell_type": "markdown",
   "metadata": {},
   "source": [
    "# Empirical Temporal Networks"
   ]
  },
  {
   "cell_type": "code",
   "execution_count": 2,
   "metadata": {
    "ExecuteTime": {
     "end_time": "2020-12-07T18:21:26.123607Z",
     "start_time": "2020-12-07T18:21:23.931719Z"
    }
   },
   "outputs": [],
   "source": [
    "from SubTempNet import *\n",
    "%load_ext autoreload\n",
    "%autoreload 2\n",
    "%matplotlib inline"
   ]
  },
  {
   "cell_type": "markdown",
   "metadata": {},
   "source": [
    "# Primaryschool"
   ]
  },
  {
   "cell_type": "markdown",
   "metadata": {},
   "source": [
    "## Original"
   ]
  },
  {
   "cell_type": "code",
   "execution_count": 3,
   "metadata": {
    "ExecuteTime": {
     "end_time": "2020-12-07T18:21:35.713894Z",
     "start_time": "2020-12-07T18:21:26.957818Z"
    }
   },
   "outputs": [],
   "source": [
    "filename = \"data/primaryschool.edges\"\n",
    "objname= \"primaryschool\"\n",
    "STN = SubTempNet(filename, objname, directed= False, init = False)"
   ]
  },
  {
   "cell_type": "code",
   "execution_count": 9,
   "metadata": {
    "ExecuteTime": {
     "end_time": "2020-12-07T18:36:25.830720Z",
     "start_time": "2020-12-07T18:36:25.270240Z"
    }
   },
   "outputs": [
    {
     "name": "stdout",
     "output_type": "stream",
     "text": [
      "[1, 8, 9, 10, 12, 13, 15, 18, 20, 23, 27, 31, 35, 40, 46, 53, 60, 69, 79, 90, 103, 118, 135, 155, 177, 203, 232, 266, 304, 348, 398, 455, 521, 595, 681, 779, 891, 1019, 1166, 1334, 1525, 1745, 1996, 2283, 2611, 2986, 3416, 3907, 4468, 5111, 5846]\n"
     ]
    },
    {
     "data": {
      "image/png": "[encoded data removed]",
      "text/plain": [
       "<Figure size 432x288 with 1 Axes>"
      ]
     },
     "metadata": {
      "needs_background": "light"
     },
     "output_type": "display_data"
    }
   ],
   "source": [
    "num = 50\n",
    "T = sorted([1]+list(set(np.logspace(np.log10(STN[\"T\"]),np.log10(8.1), num, dtype = int))))\n",
    "print(T)\n",
    "plt.scatter(T, len(T)*[1])\n",
    "plt.xscale(\"log\")"
   ]
  },
  {
   "cell_type": "code",
   "execution_count": null,
   "metadata": {
    "ExecuteTime": {
     "start_time": "2020-12-07T18:36:39.645Z"
    }
   },
   "outputs": [
    {
     "name": "stdout",
     "output_type": "stream",
     "text": [
      "Done with samplelengths  [1, 8, 9, 10, 12, 13, 15, 18, 20, 23]\n",
      "Analyzing sample number 2 for samplelength  27 and  8 slices\n"
     ]
    }
   ],
   "source": [
    "STN.run(*T,  maxsamp = 30, minsamp = 5)"
   ]
  },
  {
   "cell_type": "code",
   "execution_count": null,
   "metadata": {
    "ExecuteTime": {
     "start_time": "2020-12-07T18:36:40.838Z"
    }
   },
   "outputs": [],
   "source": [
    "STN.save()"
   ]
  },
  {
   "cell_type": "code",
   "execution_count": null,
   "metadata": {
    "ExecuteTime": {
     "start_time": "2020-12-07T18:36:50.659Z"
    }
   },
   "outputs": [],
   "source": [
    "STN.plot_PA(normalize=True, LCC = False)\n",
    "STN.plot_LCC(normalize=True, ACC = False)\n",
    "STN.plot_cA0AT()\n",
    "STN.plot_cA0AL(2,4,6,8)"
   ]
  },
  {
   "cell_type": "markdown",
   "metadata": {},
   "source": [
    "## EDS"
   ]
  },
  {
   "cell_type": "code",
   "execution_count": 8,
   "metadata": {
    "ExecuteTime": {
     "end_time": "2020-12-07T18:33:02.205657Z",
     "start_time": "2020-12-07T18:32:30.508251Z"
    }
   },
   "outputs": [],
   "source": [
    "#Create EDS Temporal network\n",
    "name = \"data/\"+ STN[\"objname\"][:-11]+\"_EDS.edges\"\n",
    "deg = STN[\"deg_seq\"]/STN[\"T\"]\n",
    "A = []\n",
    "for t in range(int(1.5*STN[\"T\"])):\n",
    "    A.append(STN.ChungLu(deg))\n",
    "#check that first and last snapshot contain at least one edge\n",
    "if len(A[0].edges()) ==0:\n",
    "    u,v = np.random.choice(range(n),2,replace = False )\n",
    "    A[0].add_edge(u,v)\n",
    "if len(A[-1].edges()) ==0:\n",
    "    u,v = np.random.choice(range(n),2,replace = False )\n",
    "    A[-1].add_edge(u,v)\n",
    "#save edgelist\n",
    "SubTempNet.write_snapshotlist_to_edgelist(A, name, separator='\\t')"
   ]
  },
  {
   "cell_type": "code",
   "execution_count": null,
   "metadata": {},
   "outputs": [],
   "source": [
    "filename = \"data/primaryschool_EDS.edges\"\n",
    "objname= \"primaryschool_EDS\"\n",
    "STN = SubTempNet(filename, objname, directed= False, init = False)"
   ]
  }
 ],
 "metadata": {
  "kernelspec": {
   "display_name": "Python 3",
   "language": "python",
   "name": "python3"
  },
  "language_info": {
   "codemirror_mode": {
    "name": "ipython",
    "version": 3
   },
   "file_extension": ".py",
   "mimetype": "text/x-python",
   "name": "python",
   "nbconvert_exporter": "python",
   "pygments_lexer": "ipython3",
   "version": "3.7.3"
  },
  "toc": {
   "base_numbering": 1,
   "nav_menu": {},
   "number_sections": true,
   "sideBar": true,
   "skip_h1_title": false,
   "title_cell": "Table of Contents",
   "title_sidebar": "Contents",
   "toc_cell": false,
   "toc_position": {},
   "toc_section_display": true,
   "toc_window_display": false
  }
 },
 "nbformat": 4,
 "nbformat_minor": 2
}
